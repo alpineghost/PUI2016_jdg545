{
 "cells": [
  {
   "cell_type": "code",
   "execution_count": 1,
   "metadata": {
    "collapsed": false
   },
   "outputs": [
    {
     "name": "stderr",
     "output_type": "stream",
     "text": [
      "/opt/rh/anaconda/root/envs/PUI2016_Python2/lib/python2.7/site-packages/IPython/html.py:14: ShimWarning: The `IPython.html` package has been deprecated. You should import from `notebook` instead. `IPython.html.widgets` has moved to `ipywidgets`.\n",
      "  \"`IPython.html.widgets` has moved to `ipywidgets`.\", ShimWarning)\n"
     ]
    }
   ],
   "source": [
    "# Imports to work with statistical analysis, maps, etc.\n",
    "\n",
    "%matplotlib inline\n",
    "import numpy as np\n",
    "import pandas as pd\n",
    "from pandas import DataFrame\n",
    "import ast\n",
    "from cStringIO import StringIO\n",
    "import os\n",
    "import json\n",
    "import requests\n",
    "import urllib2\n",
    "import urllib\n",
    "import shapely\n",
    "import seaborn as sns\n",
    "from scipy.spatial.distance import pdist, squareform\n",
    "\n",
    "# Using the last development version of geopandas at this time\n",
    "# pip install git+git://github.com/geopandas/geopandas.git\n",
    "from geopandas import GeoDataFrame\n",
    "\n",
    "from fiona.crs import from_epsg\n",
    "import matplotlib.pylab as pl\n",
    "from matplotlib import colors"
   ]
  },
  {
   "cell_type": "code",
   "execution_count": 6,
   "metadata": {
    "collapsed": true
   },
   "outputs": [],
   "source": [
    "SQL_SOURCE = 'https://fb55.carto.com/api/v2/sql'\n",
    "\n",
    "def queryCartoDB(query, format='CSV', source=SQL_SOURCE):\n",
    "    \"\"\" queries a url with an sql compatible search\n",
    "    Arguments:\n",
    "    query : the sql query string\n",
    "    format : the expected format\n",
    "    source \" the url of the API\n",
    "    \"\"\"\n",
    "    data = urllib.urlencode({'format': format, 'q': query})\n",
    "    try:\n",
    "        response = urllib2.urlopen(source, data)\n",
    "    except urllib2.HTTPError, e:\n",
    "        raise ValueError('\\n'.join(ast.literal_eval(e.readline())['error']))\n",
    "    except Exception:\n",
    "        raise\n",
    "    return StringIO(response.read())"
   ]
  },
  {
   "cell_type": "code",
   "execution_count": 7,
   "metadata": {
    "collapsed": false
   },
   "outputs": [],
   "source": [
    "# Preparing query parameters\n",
    "\n",
    "facilityQuery = '''\n",
    "SELECT count(*), zipcodes\n",
    "FROM nycasthmasdismissals\n",
    "GROUP BY zipcodes\n",
    "'''\n",
    "\n",
    "# Use the queryCartoDB helper function to retreive the data in JSON format\n",
    "# Parse the JSON into a string and load it into a pandas dataframe\n",
    "facilityStream = queryCartoDB(facilityQuery, format='JSON', source=SQL_SOURCE)\n",
    "facilityData   = json.loads(facilityStream.read())\n",
    "facilities     = pd.DataFrame.from_dict(facilityData['rows'])"
   ]
  },
  {
   "cell_type": "code",
   "execution_count": 8,
   "metadata": {
    "collapsed": false
   },
   "outputs": [
    {
     "data": {
      "text/html": [
       "<div>\n",
       "<table border=\"1\" class=\"dataframe\">\n",
       "  <thead>\n",
       "    <tr style=\"text-align: right;\">\n",
       "      <th></th>\n",
       "      <th>count</th>\n",
       "      <th>zipcodes</th>\n",
       "    </tr>\n",
       "  </thead>\n",
       "  <tbody>\n",
       "    <tr>\n",
       "      <th>0</th>\n",
       "      <td>1699</td>\n",
       "      <td>10461</td>\n",
       "    </tr>\n",
       "    <tr>\n",
       "      <th>1</th>\n",
       "      <td>405</td>\n",
       "      <td>11373</td>\n",
       "    </tr>\n",
       "    <tr>\n",
       "      <th>2</th>\n",
       "      <td>1698</td>\n",
       "      <td>10451</td>\n",
       "    </tr>\n",
       "    <tr>\n",
       "      <th>3</th>\n",
       "      <td>220</td>\n",
       "      <td>11691</td>\n",
       "    </tr>\n",
       "    <tr>\n",
       "      <th>4</th>\n",
       "      <td>246</td>\n",
       "      <td>11375</td>\n",
       "    </tr>\n",
       "  </tbody>\n",
       "</table>\n",
       "</div>"
      ],
      "text/plain": [
       "   count  zipcodes\n",
       "0   1699     10461\n",
       "1    405     11373\n",
       "2   1698     10451\n",
       "3    220     11691\n",
       "4    246     11375"
      ]
     },
     "execution_count": 8,
     "metadata": {},
     "output_type": "execute_result"
    }
   ],
   "source": [
    "facilities.head()"
   ]
  },
  {
   "cell_type": "markdown",
   "metadata": {},
   "source": [
    "### Find a shape file with zipcode shapes for NYC, download it and open it with geopandas.\n",
    "Merge the dataframe with the facility dismissals (the file you got on Carto) joining on the zipcode and use the zipcode geometry centers to extract the x and y coordinates of the zipcode center."
   ]
  },
  {
   "cell_type": "code",
   "execution_count": 19,
   "metadata": {
    "collapsed": false
   },
   "outputs": [
    {
     "name": "stdout",
     "output_type": "stream",
     "text": [
      "  % Total    % Received % Xferd  Average Speed   Time    Time     Time  Current\n",
      "                                 Dload  Upload   Total   Spent    Left  Speed\n",
      "100  591k  100  591k    0     0  2051k      0 --:--:-- --:--:-- --:--:-- 6503k\n"
     ]
    }
   ],
   "source": [
    "PUIDATA = os.getenv('PUIDATA')\n",
    "\n",
    "##Get Census tract shape file, move to PUIDATA folder, and read it using Geopandas into a dataframe. \n",
    "!curl -O \"https://raw.githubusercontent.com/fedhere/PUI2016_fb55/master/HW11_fb55/nyc-zip-code-tabulation-areas-polygons.geojson\"\n",
    "shapefile=\"nyc-zip-code-tabulation-areas-polygons.geojson\"\n",
    "os.system(\"mv \" + shapefile + \" \" + os.getenv(\"PUIDATA\"))\n",
    "shapefile = PUIDATA +\"/nyc-zip-code-tabulation-areas-polygons.geojson\""
   ]
  },
  {
   "cell_type": "code",
   "execution_count": 21,
   "metadata": {
    "collapsed": false
   },
   "outputs": [
    {
     "data": {
      "text/plain": [
       "Index([           u'@id', u'BLDGpostalCode',       u'CTY_FIPS',\n",
       "             u'OBJECTID',        u'PO_NAME',          u'STATE',\n",
       "              u'ST_FIPS',     u'Shape_Area',     u'Shape_Leng',\n",
       "              u'borough',       u'geometry',     u'postalCode'],\n",
       "      dtype='object')"
      ]
     },
     "execution_count": 21,
     "metadata": {},
     "output_type": "execute_result"
    }
   ],
   "source": [
    "shapes = GeoDataFrame.from_file(shapefile)\n",
    "shapes.columns"
   ]
  },
  {
   "cell_type": "code",
   "execution_count": 36,
   "metadata": {
    "collapsed": true
   },
   "outputs": [],
   "source": [
    "#rename column of zipcode\n",
    "shapes.rename(columns = {'postalCode' : 'zipcodes'}, inplace = True)"
   ]
  },
  {
   "cell_type": "code",
   "execution_count": 38,
   "metadata": {
    "collapsed": true
   },
   "outputs": [],
   "source": [
    "#Create column with center of each zipcode\n",
    "shapes['center'] = shapes.geometry.centroid"
   ]
  },
  {
   "cell_type": "code",
   "execution_count": 39,
   "metadata": {
    "collapsed": false
   },
   "outputs": [],
   "source": [
    "#recast both columns with the same type\n",
    "facilities.zipcodes = facilities.zipcodes.astype(str)\n",
    "shapes.zipcodes = shapes.zipcodes.astype(str)"
   ]
  },
  {
   "cell_type": "code",
   "execution_count": 40,
   "metadata": {
    "collapsed": true
   },
   "outputs": [],
   "source": [
    "#Merge the two dataframes\n",
    "merged = pd.merge(facilities, shapes, on = 'zipcodes')"
   ]
  },
  {
   "cell_type": "code",
   "execution_count": 43,
   "metadata": {
    "collapsed": false
   },
   "outputs": [
    {
     "data": {
      "text/html": [
       "<div>\n",
       "<table border=\"1\" class=\"dataframe\">\n",
       "  <thead>\n",
       "    <tr style=\"text-align: right;\">\n",
       "      <th></th>\n",
       "      <th>zipcodes</th>\n",
       "      <th>count</th>\n",
       "      <th>center</th>\n",
       "    </tr>\n",
       "  </thead>\n",
       "  <tbody>\n",
       "    <tr>\n",
       "      <th>0</th>\n",
       "      <td>10461</td>\n",
       "      <td>1699</td>\n",
       "      <td>POINT (-73.84080867380536 40.84700067263105)</td>\n",
       "    </tr>\n",
       "    <tr>\n",
       "      <th>1</th>\n",
       "      <td>11373</td>\n",
       "      <td>405</td>\n",
       "      <td>POINT (-73.87842706401592 40.73885362850201)</td>\n",
       "    </tr>\n",
       "    <tr>\n",
       "      <th>2</th>\n",
       "      <td>10451</td>\n",
       "      <td>1698</td>\n",
       "      <td>POINT (-73.92373406533598 40.82077879319685)</td>\n",
       "    </tr>\n",
       "    <tr>\n",
       "      <th>3</th>\n",
       "      <td>11691</td>\n",
       "      <td>220</td>\n",
       "      <td>POINT (-73.76192276783287 40.60074018580426)</td>\n",
       "    </tr>\n",
       "    <tr>\n",
       "      <th>4</th>\n",
       "      <td>11375</td>\n",
       "      <td>246</td>\n",
       "      <td>POINT (-73.84627891822217 40.72069287356896)</td>\n",
       "    </tr>\n",
       "  </tbody>\n",
       "</table>\n",
       "</div>"
      ],
      "text/plain": [
       "  zipcodes  count                                        center\n",
       "0    10461   1699  POINT (-73.84080867380536 40.84700067263105)\n",
       "1    11373    405  POINT (-73.87842706401592 40.73885362850201)\n",
       "2    10451   1698  POINT (-73.92373406533598 40.82077879319685)\n",
       "3    11691    220  POINT (-73.76192276783287 40.60074018580426)\n",
       "4    11375    246  POINT (-73.84627891822217 40.72069287356896)"
      ]
     },
     "execution_count": 43,
     "metadata": {},
     "output_type": "execute_result"
    }
   ],
   "source": [
    "#Select the required columns\n",
    "merged = merged[['zipcodes', 'count', 'center']]\n",
    "merged.head()"
   ]
  },
  {
   "cell_type": "code",
   "execution_count": null,
   "metadata": {
    "collapsed": true
   },
   "outputs": [],
   "source": []
  }
 ],
 "metadata": {
  "kernelspec": {
   "display_name": "PUI2016_Python2",
   "language": "python",
   "name": "pui2016_python2"
  },
  "language_info": {
   "codemirror_mode": {
    "name": "ipython",
    "version": 2
   },
   "file_extension": ".py",
   "mimetype": "text/x-python",
   "name": "python",
   "nbconvert_exporter": "python",
   "pygments_lexer": "ipython2",
   "version": "2.7.12"
  }
 },
 "nbformat": 4,
 "nbformat_minor": 0
}

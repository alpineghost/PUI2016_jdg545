{
 "cells": [
  {
   "cell_type": "code",
   "execution_count": 90,
   "metadata": {
    "collapsed": false
   },
   "outputs": [
    {
     "name": "stdout",
     "output_type": "stream",
     "text": [
      "/gws/open/NYCOpenData/nycopendata/data\n"
     ]
    }
   ],
   "source": [
    "import pandas as pd\n",
    "import os\n",
    "import matplotlib.pyplot as plt\n",
    "import numpy as np\n",
    "%matplotlib inline\n",
    "\n",
    "#Verify that the enviromental variable is set\n",
    "DFDATA = os.getenv('DFDATA')\n",
    "print (DFDATA)"
   ]
  },
  {
   "cell_type": "code",
   "execution_count": 9,
   "metadata": {
    "collapsed": false
   },
   "outputs": [
    {
     "data": {
      "text/html": [
       "<div>\n",
       "<table border=\"1\" class=\"dataframe\">\n",
       "  <thead>\n",
       "    <tr style=\"text-align: right;\">\n",
       "      <th></th>\n",
       "      <th>Borough, Block and Lot #</th>\n",
       "      <th>Facility Address</th>\n",
       "      <th>Natural Gas Utility (Con Edison or National Grid</th>\n",
       "      <th>Building Manager</th>\n",
       "      <th>Owner</th>\n",
       "      <th>Owner Address</th>\n",
       "      <th>DEP Boiler Application #</th>\n",
       "      <th>Deadline for phasing out #6 oil (i.e. data of next DEP permit renewal after July 1 2012)</th>\n",
       "      <th>Boiler Model</th>\n",
       "      <th>Number of identical boilers</th>\n",
       "      <th>...</th>\n",
       "      <th>Building Type</th>\n",
       "      <th>City Council District</th>\n",
       "      <th>Total area of buildings on lot</th>\n",
       "      <th>Number of buildings on property (tax lot)</th>\n",
       "      <th>Number of floors</th>\n",
       "      <th>Number of residential units</th>\n",
       "      <th>Number of total units</th>\n",
       "      <th>Year constructed</th>\n",
       "      <th>Condominium housing?</th>\n",
       "      <th>Cooperative housing?</th>\n",
       "    </tr>\n",
       "  </thead>\n",
       "  <tbody>\n",
       "    <tr>\n",
       "      <th>0</th>\n",
       "      <td>2.032590e+09</td>\n",
       "      <td>2840 BAILEY AVENUE\\nBronx, NY 10463\\n(40.87433...</td>\n",
       "      <td>Con Edison</td>\n",
       "      <td>BESNIK REALTY CORP.</td>\n",
       "      <td>BESNIK REALTY CORP</td>\n",
       "      <td>754 MACE AVENUE\\nBRONX, NY 10467\\n(40.86314421...</td>\n",
       "      <td>CA348086Y</td>\n",
       "      <td>7/6/05</td>\n",
       "      <td>ROCKMILLS MP 150</td>\n",
       "      <td>1.0</td>\n",
       "      <td>...</td>\n",
       "      <td>Elevator Apartments</td>\n",
       "      <td>14.0</td>\n",
       "      <td>86412.0</td>\n",
       "      <td>1.0</td>\n",
       "      <td>6.0</td>\n",
       "      <td>87.0</td>\n",
       "      <td>87.0</td>\n",
       "      <td>1926.0</td>\n",
       "      <td></td>\n",
       "      <td></td>\n",
       "    </tr>\n",
       "    <tr>\n",
       "      <th>1</th>\n",
       "      <td>2.057801e+09</td>\n",
       "      <td>3900 GREYSTONE AVENUE\\nBronx, NY 10463\\n(40.88...</td>\n",
       "      <td>Con Edison</td>\n",
       "      <td>TROY PITTS SPRINT</td>\n",
       "      <td>WIENER, EDITH</td>\n",
       "      <td>855 AVE\\nMANHATTAN, NY 10001\\n(40.750259021436...</td>\n",
       "      <td>CA014493L</td>\n",
       "      <td>7/6/05</td>\n",
       "      <td>FEDERAL FST-150</td>\n",
       "      <td>2.0</td>\n",
       "      <td>...</td>\n",
       "      <td>Elevator Apartments</td>\n",
       "      <td>11.0</td>\n",
       "      <td>134703.0</td>\n",
       "      <td>2.0</td>\n",
       "      <td>6.0</td>\n",
       "      <td>127.0</td>\n",
       "      <td>127.0</td>\n",
       "      <td>1928.0</td>\n",
       "      <td></td>\n",
       "      <td></td>\n",
       "    </tr>\n",
       "    <tr>\n",
       "      <th>2</th>\n",
       "      <td>2.028230e+09</td>\n",
       "      <td>1650 GRAND\\nBronx, NY 10457\\n(40.8457983712978...</td>\n",
       "      <td>Con Edison</td>\n",
       "      <td>BRONX LEBANON HOSPITAL</td>\n",
       "      <td>BRONX-LEBANON HOSPITA</td>\n",
       "      <td>1650 SELWYN AVE\\nBRONX, NY 10457\\n(40.84317219...</td>\n",
       "      <td>CA159489X</td>\n",
       "      <td>7/6/05</td>\n",
       "      <td>CLEAVER BROOKS CB-600-600</td>\n",
       "      <td>2.0</td>\n",
       "      <td>...</td>\n",
       "      <td>Elevator Apartments</td>\n",
       "      <td>14.0</td>\n",
       "      <td>480769.0</td>\n",
       "      <td>1.0</td>\n",
       "      <td>11.0</td>\n",
       "      <td>0.0</td>\n",
       "      <td>1.0</td>\n",
       "      <td>1941.0</td>\n",
       "      <td></td>\n",
       "      <td></td>\n",
       "    </tr>\n",
       "    <tr>\n",
       "      <th>3</th>\n",
       "      <td>2.030640e+09</td>\n",
       "      <td>4422 3 AVENUE\\nBronx, NY 10457\\n(40.8540683145...</td>\n",
       "      <td>Con Edison</td>\n",
       "      <td>ST BARNABAS HOSPITAL BOILER ROOM</td>\n",
       "      <td>ST BARNABAS NURSING H</td>\n",
       "      <td>4422 3 AVENUE\\nN Y 10457\\n(40.854068314549714,...</td>\n",
       "      <td>CB078401R</td>\n",
       "      <td>NaN</td>\n",
       "      <td>B &amp; W  FM  10-66</td>\n",
       "      <td>1.0</td>\n",
       "      <td>...</td>\n",
       "      <td>Loft Buildings</td>\n",
       "      <td>15.0</td>\n",
       "      <td>421234.0</td>\n",
       "      <td>4.0</td>\n",
       "      <td>8.0</td>\n",
       "      <td>0.0</td>\n",
       "      <td>1.0</td>\n",
       "      <td>1943.0</td>\n",
       "      <td></td>\n",
       "      <td></td>\n",
       "    </tr>\n",
       "  </tbody>\n",
       "</table>\n",
       "<p>4 rows × 33 columns</p>\n",
       "</div>"
      ],
      "text/plain": [
       "   Borough, Block and Lot #  \\\n",
       "0              2.032590e+09   \n",
       "1              2.057801e+09   \n",
       "2              2.028230e+09   \n",
       "3              2.030640e+09   \n",
       "\n",
       "                                    Facility Address  \\\n",
       "0  2840 BAILEY AVENUE\\nBronx, NY 10463\\n(40.87433...   \n",
       "1  3900 GREYSTONE AVENUE\\nBronx, NY 10463\\n(40.88...   \n",
       "2  1650 GRAND\\nBronx, NY 10457\\n(40.8457983712978...   \n",
       "3  4422 3 AVENUE\\nBronx, NY 10457\\n(40.8540683145...   \n",
       "\n",
       "  Natural Gas Utility (Con Edison or National Grid  \\\n",
       "0                                       Con Edison   \n",
       "1                                       Con Edison   \n",
       "2                                       Con Edison   \n",
       "3                                       Con Edison   \n",
       "\n",
       "                   Building Manager                  Owner  \\\n",
       "0               BESNIK REALTY CORP.     BESNIK REALTY CORP   \n",
       "1                 TROY PITTS SPRINT          WIENER, EDITH   \n",
       "2            BRONX LEBANON HOSPITAL  BRONX-LEBANON HOSPITA   \n",
       "3  ST BARNABAS HOSPITAL BOILER ROOM  ST BARNABAS NURSING H   \n",
       "\n",
       "                                       Owner Address DEP Boiler Application #  \\\n",
       "0  754 MACE AVENUE\\nBRONX, NY 10467\\n(40.86314421...                CA348086Y   \n",
       "1  855 AVE\\nMANHATTAN, NY 10001\\n(40.750259021436...                CA014493L   \n",
       "2  1650 SELWYN AVE\\nBRONX, NY 10457\\n(40.84317219...                CA159489X   \n",
       "3  4422 3 AVENUE\\nN Y 10457\\n(40.854068314549714,...                CB078401R   \n",
       "\n",
       "  Deadline for phasing out #6 oil (i.e. data of next DEP permit renewal after July 1 2012)  \\\n",
       "0                                             7/6/05                                         \n",
       "1                                             7/6/05                                         \n",
       "2                                             7/6/05                                         \n",
       "3                                                NaN                                         \n",
       "\n",
       "                Boiler Model  Number of identical boilers  \\\n",
       "0           ROCKMILLS MP 150                          1.0   \n",
       "1            FEDERAL FST-150                          2.0   \n",
       "2  CLEAVER BROOKS CB-600-600                          2.0   \n",
       "3           B & W  FM  10-66                          1.0   \n",
       "\n",
       "           ...                 Building Type  City Council District  \\\n",
       "0          ...           Elevator Apartments                   14.0   \n",
       "1          ...           Elevator Apartments                   11.0   \n",
       "2          ...           Elevator Apartments                   14.0   \n",
       "3          ...                Loft Buildings                   15.0   \n",
       "\n",
       "   Total area of buildings on lot Number of buildings on property (tax lot)  \\\n",
       "0                         86412.0                                       1.0   \n",
       "1                        134703.0                                       2.0   \n",
       "2                        480769.0                                       1.0   \n",
       "3                        421234.0                                       4.0   \n",
       "\n",
       "  Number of floors Number of residential units Number of total units  \\\n",
       "0              6.0                        87.0                  87.0   \n",
       "1              6.0                       127.0                 127.0   \n",
       "2             11.0                         0.0                   1.0   \n",
       "3              8.0                         0.0                   1.0   \n",
       "\n",
       "   Year constructed  Condominium housing?  Cooperative housing?  \n",
       "0            1926.0                                              \n",
       "1            1928.0                                              \n",
       "2            1941.0                                              \n",
       "3            1943.0                                              \n",
       "\n",
       "[4 rows x 33 columns]"
      ]
     },
     "execution_count": 9,
     "metadata": {},
     "output_type": "execute_result"
    }
   ],
   "source": [
    "\n",
    "\n",
    "#load the csv with the dataset into a pandas DataFrame and diplay the top 4 rows\n",
    "df = pd.read_csv(DFDATA + '/jfzu-yy6n/1414245777/jfzu-yy6n')\n",
    "df.head(4)"
   ]
  },
  {
   "cell_type": "code",
   "execution_count": 21,
   "metadata": {
    "collapsed": false
   },
   "outputs": [],
   "source": [
    "df_twoVariables = df[[27,28]].dropna()"
   ]
  },
  {
   "cell_type": "code",
   "execution_count": 22,
   "metadata": {
    "collapsed": false
   },
   "outputs": [
    {
     "data": {
      "text/html": [
       "<div>\n",
       "<table border=\"1\" class=\"dataframe\">\n",
       "  <thead>\n",
       "    <tr style=\"text-align: right;\">\n",
       "      <th></th>\n",
       "      <th>Number of floors</th>\n",
       "      <th>Number of residential units</th>\n",
       "    </tr>\n",
       "  </thead>\n",
       "  <tbody>\n",
       "    <tr>\n",
       "      <th>0</th>\n",
       "      <td>6.0</td>\n",
       "      <td>87.0</td>\n",
       "    </tr>\n",
       "    <tr>\n",
       "      <th>1</th>\n",
       "      <td>6.0</td>\n",
       "      <td>127.0</td>\n",
       "    </tr>\n",
       "    <tr>\n",
       "      <th>2</th>\n",
       "      <td>11.0</td>\n",
       "      <td>0.0</td>\n",
       "    </tr>\n",
       "    <tr>\n",
       "      <th>3</th>\n",
       "      <td>8.0</td>\n",
       "      <td>0.0</td>\n",
       "    </tr>\n",
       "  </tbody>\n",
       "</table>\n",
       "</div>"
      ],
      "text/plain": [
       "   Number of floors  Number of residential units\n",
       "0               6.0                         87.0\n",
       "1               6.0                        127.0\n",
       "2              11.0                          0.0\n",
       "3               8.0                          0.0"
      ]
     },
     "execution_count": 22,
     "metadata": {},
     "output_type": "execute_result"
    }
   ],
   "source": [
    "df_twoVariables.head(4)"
   ]
  },
  {
   "cell_type": "code",
   "execution_count": 32,
   "metadata": {
    "collapsed": false
   },
   "outputs": [
    {
     "data": {
      "text/plain": [
       "<matplotlib.text.Text at 0x7f774fdac908>"
      ]
     },
     "execution_count": 32,
     "metadata": {},
     "output_type": "execute_result"
    },
    {
     "data": {
      "image/png": "[encoded data removed]",
      "text/plain": [
       "<matplotlib.figure.Figure at 0x7f774fdbfeb8>"
      ]
     },
     "metadata": {},
     "output_type": "display_data"
    }
   ],
   "source": [
    "ax = df_twoVariables.plot.scatter(x = 'Number of floors', y = 'Number of residential units')\n",
    "ax.set_title(\"Residential Units by Number of Floors\")"
   ]
  },
  {
   "cell_type": "code",
   "execution_count": 99,
   "metadata": {
    "collapsed": false,
    "scrolled": true
   },
   "outputs": [
    {
     "data": {
      "text/html": [
       "<div>\n",
       "<table border=\"1\" class=\"dataframe\">\n",
       "  <thead>\n",
       "    <tr style=\"text-align: right;\">\n",
       "      <th></th>\n",
       "      <th>Site</th>\n",
       "      <th>Date</th>\n",
       "      <th>Turbidity(NTU) at 12AM</th>\n",
       "      <th>Turbidity(NTU) at 4AM</th>\n",
       "      <th>Turbidity(NTU) at 8AM</th>\n",
       "      <th>Turbidity(NTU) at 12PM</th>\n",
       "      <th>Turbidity(NTU) at 4PM</th>\n",
       "      <th>Turbidity(NTU) at 8PM</th>\n",
       "      <th>Average 24hrTurbidity(NTU)</th>\n",
       "      <th>Coliform, Fecal(fc/100mL)</th>\n",
       "    </tr>\n",
       "  </thead>\n",
       "  <tbody>\n",
       "    <tr>\n",
       "      <th>0</th>\n",
       "      <td>DEL18DT</td>\n",
       "      <td>2015-05-10</td>\n",
       "      <td>NaN</td>\n",
       "      <td>1.0</td>\n",
       "      <td>0.95</td>\n",
       "      <td>0.95</td>\n",
       "      <td>1.00</td>\n",
       "      <td>1.00</td>\n",
       "      <td>0.98</td>\n",
       "      <td>&lt;1</td>\n",
       "    </tr>\n",
       "    <tr>\n",
       "      <th>1</th>\n",
       "      <td>DEL18DT</td>\n",
       "      <td>2015-05-11</td>\n",
       "      <td>1.0</td>\n",
       "      <td>1.1</td>\n",
       "      <td>0.95</td>\n",
       "      <td>1.00</td>\n",
       "      <td>1.10</td>\n",
       "      <td>1.10</td>\n",
       "      <td>1.04</td>\n",
       "      <td>&lt;1</td>\n",
       "    </tr>\n",
       "    <tr>\n",
       "      <th>2</th>\n",
       "      <td>DEL18DT</td>\n",
       "      <td>2015-05-12</td>\n",
       "      <td>1.1</td>\n",
       "      <td>1.1</td>\n",
       "      <td>1.10</td>\n",
       "      <td>0.90</td>\n",
       "      <td>0.95</td>\n",
       "      <td>1.10</td>\n",
       "      <td>1.04</td>\n",
       "      <td>1</td>\n",
       "    </tr>\n",
       "    <tr>\n",
       "      <th>3</th>\n",
       "      <td>DEL18DT</td>\n",
       "      <td>2015-05-13</td>\n",
       "      <td>0.9</td>\n",
       "      <td>1.1</td>\n",
       "      <td>0.95</td>\n",
       "      <td>0.90</td>\n",
       "      <td>1.00</td>\n",
       "      <td>0.95</td>\n",
       "      <td>0.97</td>\n",
       "      <td>1</td>\n",
       "    </tr>\n",
       "  </tbody>\n",
       "</table>\n",
       "</div>"
      ],
      "text/plain": [
       "      Site       Date  Turbidity(NTU) at 12AM  Turbidity(NTU) at 4AM  \\\n",
       "0  DEL18DT 2015-05-10                     NaN                    1.0   \n",
       "1  DEL18DT 2015-05-11                     1.0                    1.1   \n",
       "2  DEL18DT 2015-05-12                     1.1                    1.1   \n",
       "3  DEL18DT 2015-05-13                     0.9                    1.1   \n",
       "\n",
       "   Turbidity(NTU) at 8AM  Turbidity(NTU) at 12PM  Turbidity(NTU) at 4PM  \\\n",
       "0                   0.95                    0.95                   1.00   \n",
       "1                   0.95                    1.00                   1.10   \n",
       "2                   1.10                    0.90                   0.95   \n",
       "3                   0.95                    0.90                   1.00   \n",
       "\n",
       "   Turbidity(NTU) at 8PM  Average 24hrTurbidity(NTU) Coliform, Fecal(fc/100mL)  \n",
       "0                   1.00                        0.98                        <1  \n",
       "1                   1.10                        1.04                        <1  \n",
       "2                   1.10                        1.04                         1  \n",
       "3                   0.95                        0.97                         1  "
      ]
     },
     "execution_count": 99,
     "metadata": {},
     "output_type": "execute_result"
    }
   ],
   "source": [
    "#Extra Credit\n",
    "\n",
    "# Dataset from the datahub\n",
    "# \"Watershed Water Quality Data\"  \n",
    "# https://datahub.cusp.nyu.edu/dataset/y43c-5n92/resource/01f9cfa2-ab60-4618-883f-c5232d093a2c\n",
    "#load the csv with the dataset into a pandas DataFrame and diplay the top 4 rows\n",
    "\n",
    "dfExtra = pd.read_csv(DFDATA + '/y43c-5n92/1437487031/y43c-5n92')\n",
    "dfExtra['Date']=pd.to_datetime(dfExtra['Date'])\n",
    "dfExtra.head(4)"
   ]
  },
  {
   "cell_type": "code",
   "execution_count": 114,
   "metadata": {
    "collapsed": false
   },
   "outputs": [
    {
     "data": {
      "text/html": [
       "<div>\n",
       "<table border=\"1\" class=\"dataframe\">\n",
       "  <thead>\n",
       "    <tr style=\"text-align: right;\">\n",
       "      <th></th>\n",
       "      <th>Date</th>\n",
       "      <th>Average 24hrTurbidity(NTU)</th>\n",
       "    </tr>\n",
       "  </thead>\n",
       "  <tbody>\n",
       "    <tr>\n",
       "      <th>0</th>\n",
       "      <td>2015-05-10</td>\n",
       "      <td>0.98</td>\n",
       "    </tr>\n",
       "    <tr>\n",
       "      <th>1</th>\n",
       "      <td>2015-05-11</td>\n",
       "      <td>1.04</td>\n",
       "    </tr>\n",
       "    <tr>\n",
       "      <th>2</th>\n",
       "      <td>2015-05-12</td>\n",
       "      <td>1.04</td>\n",
       "    </tr>\n",
       "    <tr>\n",
       "      <th>3</th>\n",
       "      <td>2015-05-13</td>\n",
       "      <td>0.97</td>\n",
       "    </tr>\n",
       "  </tbody>\n",
       "</table>\n",
       "</div>"
      ],
      "text/plain": [
       "        Date  Average 24hrTurbidity(NTU)\n",
       "0 2015-05-10                        0.98\n",
       "1 2015-05-11                        1.04\n",
       "2 2015-05-12                        1.04\n",
       "3 2015-05-13                        0.97"
      ]
     },
     "execution_count": 114,
     "metadata": {},
     "output_type": "execute_result"
    }
   ],
   "source": [
    "dfExtra2var=dfExtra[[1,8]]\n",
    "dfExtra2var.head(4)"
   ]
  },
  {
   "cell_type": "code",
   "execution_count": 115,
   "metadata": {
    "collapsed": false
   },
   "outputs": [
    {
     "data": {
      "text/plain": [
       "<matplotlib.text.Text at 0x7f774b987a58>"
      ]
     },
     "execution_count": 115,
     "metadata": {},
     "output_type": "execute_result"
    },
    {
     "data": {
      "image/png": "[encoded data removed]",
      "text/plain": [
       "<matplotlib.figure.Figure at 0x7f774b8423c8>"
      ]
     },
     "metadata": {},
     "output_type": "display_data"
    }
   ],
   "source": [
    "ax = dfExtra2var.plot(x = 'Date', y = \"Average 24hrTurbidity(NTU)\", rot = 90)\n",
    "ax.set_title(\"Watershed Average Turbidity\")"
   ]
  },
  {
   "cell_type": "code",
   "execution_count": null,
   "metadata": {
    "collapsed": true
   },
   "outputs": [],
   "source": []
  }
 ],
 "metadata": {
  "kernelspec": {
   "display_name": "PUI2016_Python3",
   "language": "python",
   "name": "pui2016_python3"
  },
  "language_info": {
   "codemirror_mode": {
    "name": "ipython",
    "version": 3
   },
   "file_extension": ".py",
   "mimetype": "text/x-python",
   "name": "python",
   "nbconvert_exporter": "python",
   "pygments_lexer": "ipython3",
   "version": "3.5.2"
  }
 },
 "nbformat": 4,
 "nbformat_minor": 0
}

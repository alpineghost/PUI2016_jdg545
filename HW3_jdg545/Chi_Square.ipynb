{
 "cells": [
  {
   "cell_type": "code",
   "execution_count": 5,
   "metadata": {
    "collapsed": false
   },
   "outputs": [
    {
     "name": "stdout",
     "output_type": "stream",
     "text": [
      "Populating the interactive namespace from numpy and matplotlib\n"
     ]
    }
   ],
   "source": [
    "from __future__ import print_function\n",
    "import numpy as np\n",
    "import pylab as pl\n",
    "%pylab inline\n"
   ]
  },
  {
   "cell_type": "markdown",
   "metadata": {},
   "source": [
    "np.random.seed(1208)"
   ]
  },
  {
   "cell_type": "raw",
   "metadata": {},
   "source": [
    "chisq = np.random.chisquare(100,20)\n",
    "chisq"
   ]
  },
  {
   "cell_type": "code",
   "execution_count": 10,
   "metadata": {
    "collapsed": false
   },
   "outputs": [],
   "source": [
    "chisq = np.random.chisquare(100,200)"
   ]
  },
  {
   "cell_type": "code",
   "execution_count": 11,
   "metadata": {
    "collapsed": false
   },
   "outputs": [
    {
     "data": {
      "text/plain": [
       "(array([  2.,  10.,  28.,  65.,  30.,  31.,  21.,   9.,   1.,   3.]),\n",
       " array([  66.19757104,   74.27096892,   82.3443668 ,   90.41776467,\n",
       "          98.49116255,  106.56456043,  114.63795831,  122.71135618,\n",
       "         130.78475406,  138.85815194,  146.93154982]),\n",
       " <a list of 10 Patch objects>)"
      ]
     },
     "execution_count": 11,
     "metadata": {},
     "output_type": "execute_result"
    },
    {
     "data": {
      "image/png": "[encoded data removed]",
      "text/plain": [
       "<matplotlib.figure.Figure at 0x7f72a0522128>"
      ]
     },
     "metadata": {},
     "output_type": "display_data"
    }
   ],
   "source": [
    "pl.hist(chisq)"
   ]
  },
  {
   "cell_type": "code",
   "execution_count": 12,
   "metadata": {
    "collapsed": true
   },
   "outputs": [],
   "source": [
    "mysize = (2000 / np.array(range(1,101)))    "
   ]
  },
  {
   "cell_type": "code",
   "execution_count": 13,
   "metadata": {
    "collapsed": false
   },
   "outputs": [
    {
     "data": {
      "text/plain": [
       "array([ 2000.        ,  1000.        ,   666.66666667,   500.        ,\n",
       "         400.        ,   333.33333333,   285.71428571,   250.        ,\n",
       "         222.22222222,   200.        ,   181.81818182,   166.66666667,\n",
       "         153.84615385,   142.85714286,   133.33333333,   125.        ,\n",
       "         117.64705882,   111.11111111,   105.26315789,   100.        ,\n",
       "          95.23809524,    90.90909091,    86.95652174,    83.33333333,\n",
       "          80.        ,    76.92307692,    74.07407407,    71.42857143,\n",
       "          68.96551724,    66.66666667,    64.51612903,    62.5       ,\n",
       "          60.60606061,    58.82352941,    57.14285714,    55.55555556,\n",
       "          54.05405405,    52.63157895,    51.28205128,    50.        ,\n",
       "          48.7804878 ,    47.61904762,    46.51162791,    45.45454545,\n",
       "          44.44444444,    43.47826087,    42.55319149,    41.66666667,\n",
       "          40.81632653,    40.        ,    39.21568627,    38.46153846,\n",
       "          37.73584906,    37.03703704,    36.36363636,    35.71428571,\n",
       "          35.0877193 ,    34.48275862,    33.89830508,    33.33333333,\n",
       "          32.78688525,    32.25806452,    31.74603175,    31.25      ,\n",
       "          30.76923077,    30.3030303 ,    29.85074627,    29.41176471,\n",
       "          28.98550725,    28.57142857,    28.16901408,    27.77777778,\n",
       "          27.39726027,    27.02702703,    26.66666667,    26.31578947,\n",
       "          25.97402597,    25.64102564,    25.3164557 ,    25.        ,\n",
       "          24.69135802,    24.3902439 ,    24.09638554,    23.80952381,\n",
       "          23.52941176,    23.25581395,    22.98850575,    22.72727273,\n",
       "          22.47191011,    22.22222222,    21.97802198,    21.73913043,\n",
       "          21.50537634,    21.27659574,    21.05263158,    20.83333333,\n",
       "          20.6185567 ,    20.40816327,    20.2020202 ,    20.        ])"
      ]
     },
     "execution_count": 13,
     "metadata": {},
     "output_type": "execute_result"
    }
   ],
   "source": [
    "mysize"
   ]
  },
  {
   "cell_type": "code",
   "execution_count": 14,
   "metadata": {
    "collapsed": false
   },
   "outputs": [
    {
     "name": "stderr",
     "output_type": "stream",
     "text": [
      "/opt/rh/anaconda/root/envs/PUI2016_Python3/lib/python3.5/site-packages/ipykernel/__main__.py:3: DeprecationWarning: using a non-integer number instead of an integer will result in an error in the future\n",
      "  app.launch_new_instance()\n"
     ]
    }
   ],
   "source": [
    "chidist = []\n",
    "for i in range(0, len(mysize)):\n",
    "    chidist.append(np.random.chisquare(100, mysize[i]))"
   ]
  },
  {
   "cell_type": "code",
   "execution_count": 15,
   "metadata": {
    "collapsed": false
   },
   "outputs": [
    {
     "data": {
      "text/plain": [
       "numpy.ndarray"
      ]
     },
     "execution_count": 15,
     "metadata": {},
     "output_type": "execute_result"
    }
   ],
   "source": [
    "type(chidist[0])"
   ]
  },
  {
   "cell_type": "code",
   "execution_count": 17,
   "metadata": {
    "collapsed": true
   },
   "outputs": [],
   "source": [
    "chimeans = []\n",
    "for i in range(0, len(mysize)):\n",
    "    chimeans.append(chidist[i].mean())"
   ]
  },
  {
   "cell_type": "code",
   "execution_count": 18,
   "metadata": {
    "collapsed": false
   },
   "outputs": [
    {
     "data": {
      "text/plain": [
       "[99.697989054045323,\n",
       " 99.144458986561162,\n",
       " 100.62239238731163,\n",
       " 100.56429677360002,\n",
       " 100.73017282980189,\n",
       " 98.87887327651913,\n",
       " 98.488745112903985,\n",
       " 100.14237167091798,\n",
       " 100.20620967873597,\n",
       " 101.61262186950724,\n",
       " 100.82818532725,\n",
       " 99.899824009424137,\n",
       " 100.6014520571515,\n",
       " 97.390264981625009,\n",
       " 100.13736498728998,\n",
       " 98.633510552270224,\n",
       " 98.089085887460001,\n",
       " 99.033766501635938,\n",
       " 99.910512671577749,\n",
       " 100.77837056962986,\n",
       " 100.91157499749842,\n",
       " 99.595868444163955,\n",
       " 101.38574942057598,\n",
       " 97.898257276166902,\n",
       " 97.307830131922316,\n",
       " 100.2574647711056,\n",
       " 99.784799258878962,\n",
       " 98.66941451532098,\n",
       " 102.36919518813558,\n",
       " 99.178177166508519,\n",
       " 99.821006740239554,\n",
       " 97.721991479604981,\n",
       " 103.1207075203416,\n",
       " 102.37319066873235,\n",
       " 99.84916034220177,\n",
       " 96.802999614844637,\n",
       " 102.00135771659649,\n",
       " 98.882061672661592,\n",
       " 101.67889385944966,\n",
       " 99.293349774602532,\n",
       " 101.79437242870891,\n",
       " 97.673574779367826,\n",
       " 100.18846385127407,\n",
       " 102.90251880550576,\n",
       " 98.357195940941665,\n",
       " 97.650377609454665,\n",
       " 100.2742875927257,\n",
       " 102.79775414096319,\n",
       " 97.306892023105078,\n",
       " 102.04366907766469,\n",
       " 99.120140879880054,\n",
       " 95.649219084071689,\n",
       " 97.724731524682625,\n",
       " 101.58461568232811,\n",
       " 105.03057708343609,\n",
       " 100.28541691826072,\n",
       " 99.826997486222126,\n",
       " 98.34397282569941,\n",
       " 99.947823847309905,\n",
       " 100.67204906904591,\n",
       " 95.699018456745478,\n",
       " 102.03808859204132,\n",
       " 99.333272688803874,\n",
       " 102.93926786455263,\n",
       " 104.25388316676704,\n",
       " 101.42321402370945,\n",
       " 101.42566577738593,\n",
       " 97.261165871228982,\n",
       " 98.400761872350387,\n",
       " 98.272207144291286,\n",
       " 97.218845328487873,\n",
       " 96.809716985541243,\n",
       " 101.07452759317881,\n",
       " 94.085617543008013,\n",
       " 99.246793089467332,\n",
       " 97.231310723691593,\n",
       " 92.674669819963043,\n",
       " 98.949911560589172,\n",
       " 99.507694650717511,\n",
       " 95.890387304791716,\n",
       " 97.143736366333641,\n",
       " 100.40490456687549,\n",
       " 99.208908259849053,\n",
       " 98.730350045730731,\n",
       " 97.863283876470589,\n",
       " 103.5783051531767,\n",
       " 98.504204158920814,\n",
       " 104.852357112726,\n",
       " 102.99118972617376,\n",
       " 101.86814154985537,\n",
       " 98.338216081645925,\n",
       " 102.5217961934159,\n",
       " 100.17704073426232,\n",
       " 96.474665141386367,\n",
       " 98.09739416923864,\n",
       " 100.80081618907276,\n",
       " 101.05652501977593,\n",
       " 103.31584623556004,\n",
       " 97.553402821254579,\n",
       " 99.75699107603036]"
      ]
     },
     "execution_count": 18,
     "metadata": {},
     "output_type": "execute_result"
    }
   ],
   "source": [
    "chimeans"
   ]
  },
  {
   "cell_type": "code",
   "execution_count": 19,
   "metadata": {
    "collapsed": false
   },
   "outputs": [
    {
     "data": {
      "text/plain": [
       "<matplotlib.collections.PathCollection at 0x7f72999db550>"
      ]
     },
     "execution_count": 19,
     "metadata": {},
     "output_type": "execute_result"
    },
    {
     "data": {
      "image/png": "[encoded data removed]",
      "text/plain": [
       "<matplotlib.figure.Figure at 0x7f7299ed96d8>"
      ]
     },
     "metadata": {},
     "output_type": "display_data"
    }
   ],
   "source": [
    "pl.scatter(mysize, chimeans)"
   ]
  },
  {
   "cell_type": "code",
   "execution_count": null,
   "metadata": {
    "collapsed": true
   },
   "outputs": [],
   "source": []
  }
 ],
 "metadata": {
  "kernelspec": {
   "display_name": "PUI2016_Python3",
   "language": "python",
   "name": "pui2016_python3"
  },
  "language_info": {
   "codemirror_mode": {
    "name": "ipython",
    "version": 3
   },
   "file_extension": ".py",
   "mimetype": "text/x-python",
   "name": "python",
   "nbconvert_exporter": "python",
   "pygments_lexer": "ipython3",
   "version": "3.5.2"
  }
 },
 "nbformat": 4,
 "nbformat_minor": 0
}

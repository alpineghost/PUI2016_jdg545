{
 "cells": [
  {
   "cell_type": "markdown",
   "metadata": {},
   "source": [
    "I worked on this assignment with a lot of help from Sebastian Bana. We discussed it along with Sofiya Elyakin, Ben Alpert, Luis Fernando, and Scott Smith."
   ]
  },
  {
   "cell_type": "code",
   "execution_count": 1,
   "metadata": {
    "collapsed": false
   },
   "outputs": [
    {
     "name": "stdout",
     "output_type": "stream",
     "text": [
      "Populating the interactive namespace from numpy and matplotlib\n"
     ]
    }
   ],
   "source": [
    "from __future__ import print_function\n",
    "import pandas as pd\n",
    "import numpy as np\n",
    "import pylab as pl\n",
    "\n",
    "%pylab inline\n",
    "\n",
    "\n",
    "np.random.seed(545)"
   ]
  },
  {
   "cell_type": "code",
   "execution_count": 2,
   "metadata": {
    "collapsed": true
   },
   "outputs": [],
   "source": [
    "#Create a dictionary to store all the samples for each of the types of distributions along with their means and size\n",
    "#Each of the values of the dictionary is a list of lists with the sample, sample mean and sample size respectively.\n",
    "\n",
    "sampleDict={'Normal':[], 'Poisson':[],'Binomial':[],'Chi-Squared':[]}\n",
    "\n",
    "#Each of the values of the dict is a list of lists with each of the distribution types samples\n",
    "type(sampleDict['Normal'])\n",
    "\n",
    "#Generate the samples for each of the distribution types with mean = 100\n",
    "myMean = 100\n",
    "\n",
    "#We will use the np.random function \n",
    "\n",
    "#Chi sq Distribution (https://en.wikipedia.org/wiki/Chi_distribution)\n",
    "#for this distribution, the np.random method takes two values, degree of freedom and size\n",
    "#for chi sq distributions, the degree of freedom is equal to the mean, so we can do\n",
    "\n",
    "df= myMean\n",
    "\n",
    "chisqMeans = []\n",
    "chisqSizes = []\n",
    "\n",
    "#Create the 100 samples for Chi-Sq\n",
    "for i in range (1,101):\n",
    "    #get a random int between 10 and 2000 for the size\n",
    "    mySize = np.random.randint(10,2000,1)\n",
    "    sample = np.random.chisquare(df,size=mySize)\n",
    "    #sampleDict['Chi-Squared'][0].append([sample,sample.mean(),sample.size])\n",
    "    chisqMeans.append(sample.mean())\n",
    "    chisqSizes.append(sample.size)"
   ]
  },
  {
   "cell_type": "code",
   "execution_count": 3,
   "metadata": {
    "collapsed": false
   },
   "outputs": [
    {
     "name": "stdout",
     "output_type": "stream",
     "text": [
      "100\n",
      "100\n"
     ]
    },
    {
     "data": {
      "text/plain": [
       "<matplotlib.collections.PathCollection at 0x7f1752182978>"
      ]
     },
     "execution_count": 3,
     "metadata": {},
     "output_type": "execute_result"
    },
    {
     "data": {
      "image/png": "[encoded data removed]",
      "text/plain": [
       "<matplotlib.figure.Figure at 0x7f174fae40b8>"
      ]
     },
     "metadata": {},
     "output_type": "display_data"
    }
   ],
   "source": [
    "# Checking the structure\n",
    "\n",
    "print (len(chisqMeans))\n",
    "print (len(chisqSizes))\n",
    "\n",
    "pl.scatter(chisqSizes, chisqMeans)"
   ]
  },
  {
   "cell_type": "code",
   "execution_count": 4,
   "metadata": {
    "collapsed": true
   },
   "outputs": [],
   "source": [
    "\n",
    "# Poisson Distribution (https://en.wikipedia.org/wiki/Poisson_distribution)\n",
    "\n",
    "df= myMean\n",
    "\n",
    "poissonMeans = []\n",
    "poissonSizes = []\n",
    "\n",
    "#Create the 100 samples for Poission\n",
    "for i in range (1,101):\n",
    "    #get a random int between 10 and 2000 for the size\n",
    "    mySize = np.random.randint(10,2000,1)\n",
    "    sample = np.random.poisson(df,size=mySize)\n",
    "    #sampleDic['Chi-Squared'][0].append([sample,sample.mean(),sample.size])\n",
    "    poissonMeans.append(sample.mean())\n",
    "    poissonSizes.append(sample.size)\n",
    "    \n",
    "normalMeans = []\n",
    "normalSizes = []\n",
    "\n",
    "#Create the 100 samples for normal\n",
    "for i in range (1,101):\n",
    "    #get a random int between 10 and 2000 for the size\n",
    "    mySize = np.random.randint(10,2000,1)\n",
    "    sample = np.random.normal(df,scale=3,size=mySize)\n",
    "    normalMeans.append(sample.mean())\n",
    "    normalSizes.append(sample.size)\n",
    "    \n",
    "binomialMeans = []\n",
    "binomialSizes = []\n",
    "\n",
    "#Create the 100 samples for binomial\n",
    "for i in range (1,101):\n",
    "    #get a random int between 10 and 2000 for the size\n",
    "    mySize = np.random.randint(10,2000,1)\n",
    "    sample = np.random.binomial(200,.5,size=mySize)\n",
    "    binomialMeans.append(sample.mean())\n",
    "    binomialSizes.append(sample.size)"
   ]
  },
  {
   "cell_type": "code",
   "execution_count": 5,
   "metadata": {
    "collapsed": false
   },
   "outputs": [
    {
     "data": {
      "text/plain": [
       "(array([  1.,   0.,   0.,   0.,   0.,   4.,   8.,  23.,  31.,  23.,   6.,\n",
       "          3.,   0.,   0.,   1.]),\n",
       " array([  98.56      ,   98.72459903,   98.88919807,   99.0537971 ,\n",
       "          99.21839614,   99.38299517,   99.5475942 ,   99.71219324,\n",
       "          99.87679227,  100.0413913 ,  100.20599034,  100.37058937,\n",
       "         100.53518841,  100.69978744,  100.86438647,  101.02898551]),\n",
       " <a list of 15 Patch objects>)"
      ]
     },
     "execution_count": 5,
     "metadata": {},
     "output_type": "execute_result"
    },
    {
     "data": {
      "image/png": "[encoded data removed]",
      "text/plain": [
       "<matplotlib.figure.Figure at 0x7f17520391d0>"
      ]
     },
     "metadata": {},
     "output_type": "display_data"
    }
   ],
   "source": [
    "pl.hist(poissonMeans,15, color='green', alpha=0.4,histtype='bar')\n",
    "pl.hist(chisqMeans, 15,color = 'red', alpha=0.4,histtype='bar' )\n",
    "pl.hist(normalMeans, 15,color = 'black', alpha=0.4,histtype='bar')\n",
    "pl.hist(binomialMeans, 15,color = 'blue', alpha=0.4,histtype='bar')\n",
    "\n",
    "#pl.scatter(poissonSizes, poissonMeans, color='green')\n",
    "#pl.scatter(chisqSizes, chisqMeans, color = 'red' )\n",
    "#pl.scatter(normalSizes, normalMeans, color = 'black')\n",
    "#pl.scatter(binomialSizes, binomialMeans, color = 'blue')"
   ]
  },
  {
   "cell_type": "code",
   "execution_count": null,
   "metadata": {
    "collapsed": true
   },
   "outputs": [],
   "source": []
  }
 ],
 "metadata": {
  "kernelspec": {
   "display_name": "PUI2016_Python3",
   "language": "python",
   "name": "pui2016_python3"
  },
  "language_info": {
   "codemirror_mode": {
    "name": "ipython",
    "version": 3
   },
   "file_extension": ".py",
   "mimetype": "text/x-python",
   "name": "python",
   "nbconvert_exporter": "python",
   "pygments_lexer": "ipython3",
   "version": "3.5.2"
  }
 },
 "nbformat": 4,
 "nbformat_minor": 0
}
